{
 "cells": [
  {
   "cell_type": "code",
   "execution_count": 4,
   "metadata": {},
   "outputs": [
    {
     "name": "stdout",
     "output_type": "stream",
     "text": [
      "The image with filename '000000012522.jpg' is the 1385-th image in the JSON document.\n"
     ]
    }
   ],
   "source": [
    "import json\n",
    "\n",
    "# 假设JSON文件的路径是 'data.json'\n",
    "file_path = '/nfs/turbo/coe-chaijy-unreplicated/xuejunzh/output-glamm/train/mixed_data_with_predictions.json'\n",
    "\n",
    "# 读取JSON文件并解析数据\n",
    "with open(file_path, 'r') as file:\n",
    "    images = json.load(file)\n",
    "\n",
    "# 定义要查找的目标文件名\n",
    "target_filename = \"000000012522.jpg\"\n",
    "\n",
    "# 遍历列表，查找目标文件名的索引\n",
    "found = False\n",
    "for index, image in enumerate(images):\n",
    "    if image['filename'] == target_filename:\n",
    "        print(f\"The image with filename '{target_filename}' is the {index + 1}-th image in the JSON document.\")\n",
    "        found = True\n",
    "        break\n",
    "\n",
    "if not found:\n",
    "    print(\"Image not found in the JSON document.\")\n"
   ]
  }
 ],
 "metadata": {
  "kernelspec": {
   "display_name": "llava",
   "language": "python",
   "name": "python3"
  },
  "language_info": {
   "codemirror_mode": {
    "name": "ipython",
    "version": 3
   },
   "file_extension": ".py",
   "mimetype": "text/x-python",
   "name": "python",
   "nbconvert_exporter": "python",
   "pygments_lexer": "ipython3",
   "version": "3.10.14"
  },
  "orig_nbformat": 4
 },
 "nbformat": 4,
 "nbformat_minor": 2
}
