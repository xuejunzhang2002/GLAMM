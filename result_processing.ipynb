{
 "cells": [
  {
   "cell_type": "code",
   "execution_count": 2,
   "metadata": {},
   "outputs": [
    {
     "name": "stdout",
     "output_type": "stream",
     "text": [
      "Prediction Accuracy: 63.81%\n"
     ]
    }
   ],
   "source": [
    "import json\n",
    "\n",
    "def calculate_accuracy(json_data):\n",
    "    total_objects = 0\n",
    "    correct_predictions = 0\n",
    "\n",
    "    for entry in json_data:\n",
    "        objects = entry.get('objects', [])\n",
    "        for obj in objects:\n",
    "            total_objects += 1\n",
    "            if obj.get('name') == obj.get('prediction'):\n",
    "                correct_predictions += 1\n",
    "\n",
    "    if total_objects == 0:\n",
    "        return 0.0\n",
    "\n",
    "    accuracy = correct_predictions / total_objects\n",
    "    return accuracy\n",
    "\n",
    "# 读取JSON数据\n",
    "with open('/nfs/turbo/coe-chaijy-unreplicated/xuejunzh/output-glamm/train/mixed_data_with_predictions_new3.json', 'r') as file:\n",
    "    json_data = json.load(file)\n",
    "\n",
    "# 计算准确性\n",
    "accuracy = calculate_accuracy(json_data)\n",
    "print(f\"Prediction Accuracy: {accuracy:.2%}\")\n"
   ]
  },
  {
   "cell_type": "code",
   "execution_count": 20,
   "metadata": {},
   "outputs": [
    {
     "name": "stdout",
     "output_type": "stream",
     "text": [
      "Overall Prediction Accuracy: 18.02%\n",
      "BBox 1 Prediction Accuracy: 36.23%\n",
      "BBox 2 Prediction Accuracy: 13.17%\n",
      "BBox 3 Prediction Accuracy: 13.77%\n",
      "BBox 4 Prediction Accuracy: 13.77%\n",
      "BBox 5 Prediction Accuracy: 13.17%\n"
     ]
    }
   ],
   "source": [
    "import json\n",
    "\n",
    "def calculate_accuracy_by_bbox(json_data):\n",
    "    total_objects = 0\n",
    "    correct_predictions = 0\n",
    "    bbox_accuracy = {1: {\"total\": 0, \"correct\": 0},\n",
    "                     2: {\"total\": 0, \"correct\": 0},\n",
    "                     3: {\"total\": 0, \"correct\": 0},\n",
    "                     4: {\"total\": 0, \"correct\": 0},\n",
    "                     5: {\"total\": 0, \"correct\": 0}}\n",
    "\n",
    "    for entry in json_data:\n",
    "        objects = entry.get('objects', [])\n",
    "        for obj in objects:\n",
    "            total_objects += 1\n",
    "            bbox_number = obj.get('bbox_number')\n",
    "            bbox_accuracy[bbox_number][\"total\"] += 1\n",
    "            if obj.get('name') == obj.get('prediction'):\n",
    "                correct_predictions += 1\n",
    "                bbox_accuracy[bbox_number][\"correct\"] += 1\n",
    "\n",
    "    if total_objects == 0:\n",
    "        overall_accuracy = 0.0\n",
    "    else:\n",
    "        overall_accuracy = correct_predictions / total_objects\n",
    "\n",
    "    bbox_accuracies = {k: (v[\"correct\"] / v[\"total\"]) if v[\"total\"] > 0 else 0.0 for k, v in bbox_accuracy.items()}\n",
    "\n",
    "    return overall_accuracy, bbox_accuracies\n",
    "\n",
    "# 读取JSON数据\n",
    "with open('/nfs/turbo/coe-chaijy-unreplicated/xuejunzh/output-glamm-5by1/validation/BAAAA_data_with_predictions.json', 'r') as file:\n",
    "    json_data = json.load(file)\n",
    "\n",
    "# 计算总体准确性和每个bbox的准确性\n",
    "overall_accuracy, bbox_accuracies = calculate_accuracy_by_bbox(json_data)\n",
    "\n",
    "print(f\"Overall Prediction Accuracy: {overall_accuracy:.2%}\")\n",
    "for bbox_number, accuracy in bbox_accuracies.items():\n",
    "    print(f\"BBox {bbox_number} Prediction Accuracy: {accuracy:.2%}\")\n"
   ]
  }
 ],
 "metadata": {
  "kernelspec": {
   "display_name": "mind_wandering",
   "language": "python",
   "name": "python3"
  },
  "language_info": {
   "codemirror_mode": {
    "name": "ipython",
    "version": 3
   },
   "file_extension": ".py",
   "mimetype": "text/x-python",
   "name": "python",
   "nbconvert_exporter": "python",
   "pygments_lexer": "ipython3",
   "version": "3.11.9"
  },
  "orig_nbformat": 4
 },
 "nbformat": 4,
 "nbformat_minor": 2
}
